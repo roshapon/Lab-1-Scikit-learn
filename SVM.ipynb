{
 "cells": [
  {
   "cell_type": "code",
   "id": "initial_id",
   "metadata": {
    "collapsed": true,
    "ExecuteTime": {
     "end_time": "2024-10-12T14:41:08.560434Z",
     "start_time": "2024-10-12T14:41:08.368564Z"
    }
   },
   "source": [
    "import pandas as pd\n",
    "\n",
    "from sklearn.preprocessing import StandardScaler\n",
    "from sklearn.model_selection import train_test_split\n",
    "\n",
    "from sklearn.svm import SVC\n",
    "\n",
    "from sklearn.metrics import classification_report,confusion_matrix\n",
    "from sklearn.model_selection import GridSearchCV\n",
    "\n",
    "dataset = pd.read_csv(r'C:\\Users\\rosti\\Downloads\\breast+cancer+wisconsin+original\\breast-cancer-wisconsin.data')\n",
    "dataset.columns = ['Sample code number', 'Clump Thickness', 'Uniformity of Cell Size', 'Uniformity of Cell Shape', 'Marginal Adhesion', 'Single Epithelial Cell Size', 'Bare Nuclei', 'Bland Chromatin', 'Normal Nucleoli', 'Mitoses', 'Class']\n",
    "clean_dataset = dataset.dropna()\n",
    "\n",
    "for x in clean_dataset.index:\n",
    "    if clean_dataset.loc[x, 'Bare Nuclei']=='?':\n",
    "        clean_dataset.drop(x, inplace = True)\n",
    "\n",
    "clean_dataset = clean_dataset.astype({'Bare Nuclei':'int64', 'Sample code number':'category'})\n",
    "\n",
    "clean_dataset = clean_dataset.drop(['Sample code number'], axis = 1)\n",
    "\n",
    "X = clean_dataset.drop(['Class'], axis = 1)\n",
    "y = clean_dataset['Class']\n",
    "\n",
    "X_train, X_test, y_train, y_test = train_test_split(X, y, test_size=0.20)\n",
    "\n",
    "scaler = StandardScaler()\n",
    "\n",
    "scaler.fit(X_train)\n",
    "scaled_X_train = scaler.transform(X_train)\n",
    "scaled_X_test = scaler.transform(X_test) \n",
    "\n",
    "model = SVC(C=1.0, gamma = 1.0, kernel = 'rbf') #класифікація опорних векторів\n",
    "model.fit(scaled_X_train,y_train)\n",
    "y_pred = model.predict(scaled_X_test)\n",
    "print(confusion_matrix(y_test, y_pred))"
   ],
   "outputs": [
    {
     "name": "stdout",
     "output_type": "stream",
     "text": [
      "[[82  7]\n",
      " [ 0 48]]\n"
     ]
    }
   ],
   "execution_count": 23
  },
  {
   "metadata": {
    "ExecuteTime": {
     "end_time": "2024-10-12T14:41:14.135399Z",
     "start_time": "2024-10-12T14:41:14.109232Z"
    }
   },
   "cell_type": "code",
   "source": "print(classification_report(y_test, y_pred))",
   "id": "1bea8487eda49153",
   "outputs": [
    {
     "name": "stdout",
     "output_type": "stream",
     "text": [
      "              precision    recall  f1-score   support\n",
      "\n",
      "           2       1.00      0.92      0.96        89\n",
      "           4       0.87      1.00      0.93        48\n",
      "\n",
      "    accuracy                           0.95       137\n",
      "   macro avg       0.94      0.96      0.95       137\n",
      "weighted avg       0.96      0.95      0.95       137\n",
      "\n"
     ]
    }
   ],
   "execution_count": 24
  },
  {
   "metadata": {
    "ExecuteTime": {
     "end_time": "2024-10-12T14:42:10.619293Z",
     "start_time": "2024-10-12T14:42:09.492254Z"
    }
   },
   "cell_type": "code",
   "source": [
    "param_grid = {'C': [0.1, 1, 10, 100, 1000], 'gamma': [1,0.1,0.01,0.001,0.0001], 'kernel': ['rbf']} # пошук найкращих значень параметрів «C» і «gamma» за допомогою GridSearch\n",
    "grid = GridSearchCV(SVC(), param_grid, refit=True)\n",
    "grid.fit(scaled_X_train,y_train)\n",
    "grid.best_params_\n",
    "print (grid.best_params_)"
   ],
   "id": "27ae99e9e8258860",
   "outputs": [
    {
     "name": "stdout",
     "output_type": "stream",
     "text": [
      "{'C': 1, 'gamma': 0.01, 'kernel': 'rbf'}\n"
     ]
    }
   ],
   "execution_count": 25
  },
  {
   "metadata": {
    "ExecuteTime": {
     "end_time": "2024-10-12T14:42:17.479408Z",
     "start_time": "2024-10-12T14:42:17.455932Z"
    }
   },
   "cell_type": "code",
   "source": [
    "grid.best_estimator_\n",
    "grid_predictions = grid.predict(scaled_X_test)\n",
    "print(confusion_matrix(y_test,grid_predictions))"
   ],
   "id": "f7c4795aa4ad51d2",
   "outputs": [
    {
     "name": "stdout",
     "output_type": "stream",
     "text": [
      "[[88  1]\n",
      " [ 2 46]]\n"
     ]
    }
   ],
   "execution_count": 26
  },
  {
   "metadata": {
    "ExecuteTime": {
     "end_time": "2024-10-12T14:42:20.480249Z",
     "start_time": "2024-10-12T14:42:20.453475Z"
    }
   },
   "cell_type": "code",
   "source": "print(classification_report(y_test,grid_predictions))",
   "id": "b33cc3798ae64f09",
   "outputs": [
    {
     "name": "stdout",
     "output_type": "stream",
     "text": [
      "              precision    recall  f1-score   support\n",
      "\n",
      "           2       0.98      0.99      0.98        89\n",
      "           4       0.98      0.96      0.97        48\n",
      "\n",
      "    accuracy                           0.98       137\n",
      "   macro avg       0.98      0.97      0.98       137\n",
      "weighted avg       0.98      0.98      0.98       137\n",
      "\n"
     ]
    }
   ],
   "execution_count": 27
  }
 ],
 "metadata": {
  "kernelspec": {
   "display_name": "Python 3",
   "language": "python",
   "name": "python3"
  },
  "language_info": {
   "codemirror_mode": {
    "name": "ipython",
    "version": 2
   },
   "file_extension": ".py",
   "mimetype": "text/x-python",
   "name": "python",
   "nbconvert_exporter": "python",
   "pygments_lexer": "ipython2",
   "version": "2.7.6"
  }
 },
 "nbformat": 4,
 "nbformat_minor": 5
}
