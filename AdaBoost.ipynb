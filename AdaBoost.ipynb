{
 "cells": [
  {
   "cell_type": "code",
   "id": "initial_id",
   "metadata": {
    "collapsed": true,
    "ExecuteTime": {
     "end_time": "2024-10-12T14:45:28.214151Z",
     "start_time": "2024-10-12T14:45:27.811196Z"
    }
   },
   "source": [
    "import pandas as pd\n",
    "\n",
    "from sklearn.preprocessing import StandardScaler\n",
    "from sklearn.model_selection import train_test_split\n",
    "from sklearn.metrics import classification_report,confusion_matrix\n",
    "from sklearn.ensemble import AdaBoostClassifier\n",
    "\n",
    "dataset = pd.read_csv(r'C:\\Users\\rosti\\Downloads\\breast+cancer+wisconsin+original\\breast-cancer-wisconsin.data')\n",
    "dataset.columns = ['Sample code number', 'Clump Thickness', 'Uniformity of Cell Size', 'Uniformity of Cell Shape', 'Marginal Adhesion', 'Single Epithelial Cell Size', 'Bare Nuclei', 'Bland Chromatin', 'Normal Nucleoli', 'Mitoses', 'Class']\n",
    "clean_dataset = dataset.dropna()\n",
    "\n",
    "for x in clean_dataset.index:\n",
    "    if clean_dataset.loc[x, 'Bare Nuclei']=='?':\n",
    "        clean_dataset.drop(x, inplace = True)\n",
    "\n",
    "clean_dataset = clean_dataset.astype({'Bare Nuclei':'int64', 'Sample code number':'category'})\n",
    "\n",
    "clean_dataset = clean_dataset.drop(['Sample code number'], axis = 1)\n",
    "\n",
    "X = clean_dataset.drop(['Class'], axis = 1)\n",
    "y = clean_dataset['Class']\n",
    "\n",
    "X_train, X_test, y_train, y_test = train_test_split(X, y, test_size=0.20)\n",
    "\n",
    "scaler = StandardScaler()\n",
    "\n",
    "scaler.fit(X_train)\n",
    "scaled_X_train = scaler.transform(X_train)\n",
    "scaled_X_test = scaler.transform(X_test)\n",
    "\n",
    "abc = AdaBoostClassifier(n_estimators=50, learning_rate=1, random_state=0, algorithm='SAMME') #класифікатор адаптивного бустингу\n",
    "model1 = abc.fit(X_train, y_train)\n",
    "y_pred = model1.predict(X_test)\n",
    "print(confusion_matrix(y_test, y_pred))"
   ],
   "outputs": [
    {
     "name": "stdout",
     "output_type": "stream",
     "text": [
      "[[85  7]\n",
      " [ 1 44]]\n"
     ]
    }
   ],
   "execution_count": 5
  },
  {
   "metadata": {
    "ExecuteTime": {
     "end_time": "2024-10-12T14:45:30.604701Z",
     "start_time": "2024-10-12T14:45:30.566870Z"
    }
   },
   "cell_type": "code",
   "source": "print(classification_report(y_test, y_pred))",
   "id": "e18cb81a6262ac4d",
   "outputs": [
    {
     "name": "stdout",
     "output_type": "stream",
     "text": [
      "              precision    recall  f1-score   support\n",
      "\n",
      "           2       0.99      0.92      0.96        92\n",
      "           4       0.86      0.98      0.92        45\n",
      "\n",
      "    accuracy                           0.94       137\n",
      "   macro avg       0.93      0.95      0.94       137\n",
      "weighted avg       0.95      0.94      0.94       137\n",
      "\n"
     ]
    }
   ],
   "execution_count": 6
  }
 ],
 "metadata": {
  "kernelspec": {
   "display_name": "Python 3",
   "language": "python",
   "name": "python3"
  },
  "language_info": {
   "codemirror_mode": {
    "name": "ipython",
    "version": 2
   },
   "file_extension": ".py",
   "mimetype": "text/x-python",
   "name": "python",
   "nbconvert_exporter": "python",
   "pygments_lexer": "ipython2",
   "version": "2.7.6"
  }
 },
 "nbformat": 4,
 "nbformat_minor": 5
}
